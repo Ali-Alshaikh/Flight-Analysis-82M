{
 "cells": [
  {
   "cell_type": "markdown",
   "metadata": {},
   "source": [
    "# Loading the parquet file\n",
    "\n",
    "- i am using 10 million rows currently"
   ]
  },
  {
   "cell_type": "code",
   "execution_count": null,
   "metadata": {},
   "outputs": [],
   "source": [
    "import pandas as pd, numpy as np\n",
    "from glob import glob\n",
    "\n",
    "in_path = glob('/Users/alialshaikh/Downloads/itineraries_snappy.parquet')[0]\n",
    "df = pd.read_parquet(in_path,engine='pyarrow',use_threads=True)\n",
    "\n",
    "import pyarrow.parquet as pq\n",
    "import pandas as pd\n",
    "\n",
    "# Path to the file\n",
    "in_path = '/Users/alialshaikh/Downloads/itineraries_snappy.parquet'\n",
    "\n",
    "# Open the Parquet file\n",
    "parquet_file = pq.ParquetFile(in_path)\n",
    "\n",
    "# Read the first 100,000 rows\n",
    "table = parquet_file.read_row_groups(range(parquet_file.num_row_groups))  # Read all row groups\n",
    "\n",
    "table.num_rows # number of rows we have\n",
    "\n",
    "table_slice = table.slice(0, 10000000)  # Slice the first 100,000 rows\n",
    "\n",
    "# Convert to pandas DataFrame\n",
    "df = table_slice.to_pandas()\n"
   ]
  },
  {
   "cell_type": "markdown",
   "metadata": {},
   "source": [
    "from here we can dynamically change the dataframe size"
   ]
  },
  {
   "cell_type": "markdown",
   "metadata": {},
   "source": [
    "## Imports"
   ]
  },
  {
   "cell_type": "code",
   "execution_count": 70,
   "metadata": {},
   "outputs": [],
   "source": [
    "import pandas as pd ,matplotlib.pyplot as plt\n",
    "import seaborn as sns\n",
    "import matplotlib.ticker as mticker\n",
    "pd.set_option(\"display.max_columns\", 999)"
   ]
  },
  {
   "cell_type": "code",
   "execution_count": 3,
   "metadata": {},
   "outputs": [],
   "source": [
    "# loaded at the end\n",
    "df = pd.read_csv('final_2million_flight_ticket.csv')"
   ]
  },
  {
   "cell_type": "code",
   "execution_count": 4,
   "metadata": {},
   "outputs": [],
   "source": [
    "# Step 1: Clean and split airline names\n",
    "df['segmentsAirlineName'] = df['segmentsAirlineName'].str.replace(r'\\s*\\|\\|\\s*', '||', regex=True)"
   ]
  },
  {
   "cell_type": "code",
   "execution_count": 5,
   "metadata": {},
   "outputs": [],
   "source": [
    "data_dictionary = dict( legId = \"An identifier for the flight.\",\n",
    "      searchDate= \"The date (YYYY-MM-DD) on which this entry was taken from Expedia.\",\n",
    "      flightDate= \"The date (YYYY-MM-DD) of the flight.\",\n",
    "      startingAirport= \"Three-character IATA airport code for the initial location.\",\n",
    "      destinationAirport= \"Three-character IATA airport code for the arrival location.\",\n",
    "      fareBasisCode= \"The fare basis code.\",\n",
    "      travelDuration= \"The travel duration in hours and minutes.\",\n",
    "      elapsedDays= \"The number of elapsed days (usually 0).\",\n",
    "      isBasicEconomy= \"Boolean for whether the ticket is for basic economy.\",\n",
    "      isRefundable= \"Boolean for whether the ticket is refundable.\",\n",
    "      isNonStop=\" Boolean for whether the flight is non-stop.\",\n",
    "      baseFare= \"The price of the ticket (in USD).\",\n",
    "      totalFare= \"The price of the ticket (in USD) including taxes and other fees.\",\n",
    "      seatsRemaining=\" Integer for the number of seats remaining.\",\n",
    "      totalTravelDistance= \"The total travel distance in miles. This data is sometimes missing.\",\n",
    "      segmentsDepartureTimeEpochSeconds= \"String containing the departure time (Unix time) for each leg of the trip. The entries for each of the legs are separated by '||'.\",\n",
    "      segmentsDepartureTimeRaw= \"String containing the departure time (ISO 8601 format: YYYY-MM-DDThh:mm:ss.000±[hh]:00) for each leg of the trip. The entries for each of the legs are separated by '||'.\",\n",
    "      segmentsArrivalTimeEpochSeconds= \"String containing the arrival time (Unix time) for each leg of the trip. The entries for each of the legs are separated by '||'.\",\n",
    "      segmentsArrivalTimeRaw= \"String containing the arrival time (ISO 8601 format: YYYY-MM-DDThh:mm:ss.000±[hh]:00) for each leg of the trip. The entries for each of the legs are separated by '||'.\",\n",
    "      segmentsArrivalAirportCode= \"String containing the IATA airport code for the arrival location for each leg of the trip. The entries for each of the legs are separated by '||'.\",\n",
    "      segmentsDepartureAirportCode= \"String containing the IATA airport code for the departure location for each leg of the trip. The entries for each of the legs are separated by '||'.\",\n",
    "      segmentsAirlineName= \"String containing the name of the airline that services each leg of the trip. The entries for each of the legs are separated by '||'.\",\n",
    "      segmentsAirlineCode= \"String containing the two-letter airline code that services each leg of the trip. The entries for each of the legs are separated by '||'.\",\n",
    "      segmentsEquipmentDescription= \"String containing the type of airplane used for each leg of the trip (e.g. \\\"Airbus A321\\\" or \\\"Boeing 737-800\\\"). The entries for each of the legs are separated by '||'.\",\n",
    "      segmentsDurationInSeconds= \"String containing the duration of the flight (in seconds) for each leg of the trip. The entries for each of the legs are separated by '||'.\",\n",
    "      segmentsDistance= \"String containing the distance traveled (in miles) for each leg of the trip. The entries for each of the legs are separated by '||'.\",\n",
    "      segmentsCabinCode= \"String containing the cabin for each leg of the trip (e.g. \\\"coach\\\"). The entries for each of the legs are separated by '||'.\")"
   ]
  },
  {
   "cell_type": "markdown",
   "metadata": {},
   "source": [
    "#### drop the null values"
   ]
  },
  {
   "cell_type": "code",
   "execution_count": 6,
   "metadata": {},
   "outputs": [
    {
     "data": {
      "text/plain": [
       "legId                                0\n",
       "searchDate                           0\n",
       "flightDate                           0\n",
       "startingAirport                      0\n",
       "destinationAirport                   0\n",
       "fareBasisCode                        0\n",
       "travelDuration                       0\n",
       "elapsedDays                          0\n",
       "isBasicEconomy                       0\n",
       "isRefundable                         0\n",
       "isNonStop                            0\n",
       "baseFare                             0\n",
       "totalFare                            0\n",
       "seatsRemaining                       0\n",
       "segmentsDepartureTimeEpochSeconds    0\n",
       "segmentsDepartureTimeRaw             0\n",
       "segmentsArrivalTimeEpochSeconds      0\n",
       "segmentsArrivalTimeRaw               0\n",
       "segmentsArrivalAirportCode           0\n",
       "segmentsDepartureAirportCode         0\n",
       "dtype: int64"
      ]
     },
     "execution_count": 6,
     "metadata": {},
     "output_type": "execute_result"
    }
   ],
   "source": [
    "df.isna().sum()[:20]"
   ]
  },
  {
   "cell_type": "code",
   "execution_count": 7,
   "metadata": {},
   "outputs": [
    {
     "data": {
      "text/plain": [
       "segmentsAirlineName             0\n",
       "segmentsAirlineCode             0\n",
       "segmentsEquipmentDescription    0\n",
       "segmentsDurationInSeconds       0\n",
       "segmentsDistance                0\n",
       "segmentsCabinCode               0\n",
       "totalTravelDistance             0\n",
       "departure                       0\n",
       "arrival                         0\n",
       "route                           0\n",
       "full_route                      0\n",
       "dtype: int64"
      ]
     },
     "execution_count": 7,
     "metadata": {},
     "output_type": "execute_result"
    }
   ],
   "source": [
    "df.isna().sum()[20:]\n"
   ]
  },
  {
   "cell_type": "code",
   "execution_count": 8,
   "metadata": {},
   "outputs": [],
   "source": [
    "df.dropna(subset=['segmentsEquipmentDescription', 'segmentsDistance'], inplace=True)"
   ]
  },
  {
   "cell_type": "code",
   "execution_count": null,
   "metadata": {},
   "outputs": [],
   "source": [
    "def calculate_total_traveled_distance(segment_distance_list):\n",
    "  vals = segment_distance_list.split('||')\n",
    "  # i.isdigit() is a str method in python\n",
    "  valid_values = [ i for i in vals if i and i.isdigit()]\n",
    "  return sum(map(int,valid_values))"
   ]
  },
  {
   "cell_type": "code",
   "execution_count": null,
   "metadata": {},
   "outputs": [],
   "source": [
    "df['total_distance'] = df['segmentsDistance'].apply(calculate_total_traveled_distance) #.apply() runs in C-optimized pandas code. inshort python is slow, C is very fast"
   ]
  },
  {
   "cell_type": "code",
   "execution_count": null,
   "metadata": {},
   "outputs": [],
   "source": [
    "df = df.drop(['totalTravelDistance'], axis=1)"
   ]
  },
  {
   "cell_type": "code",
   "execution_count": null,
   "metadata": {},
   "outputs": [],
   "source": [
    "# df.rename(columns={'old_column_name': 'new_column_name'})\n",
    "\n",
    "df = df.rename(columns={'total_distance': 'totalTravelDistance'})"
   ]
  },
  {
   "cell_type": "markdown",
   "metadata": {},
   "source": [
    "## POSSIBLE ANSWER"
   ]
  },
  {
   "cell_type": "code",
   "execution_count": 9,
   "metadata": {},
   "outputs": [
    {
     "data": {
      "text/plain": [
       "2276"
      ]
     },
     "execution_count": 9,
     "metadata": {},
     "output_type": "execute_result"
    }
   ],
   "source": [
    "df.loc[:,['baseFare','totalFare']][(df['baseFare'] >= 5) & (df['baseFare'] <= 10)].shape[0]"
   ]
  },
  {
   "cell_type": "markdown",
   "metadata": {},
   "source": [
    "There is 2276 tickets which had a baseFare that is less than 10 dollars and greater than 5 dollars\n",
    "\n",
    "but what about the total Fare ? "
   ]
  },
  {
   "cell_type": "code",
   "execution_count": 10,
   "metadata": {},
   "outputs": [
    {
     "data": {
      "text/plain": [
       "((28, 5),\n",
       " baseFare                        1\n",
       " totalFare                       1\n",
       " isRefundable                    1\n",
       " segmentsArrivalAirportCode      2\n",
       " segmentsDepartureAirportCode    2\n",
       " dtype: int64)"
      ]
     },
     "execution_count": 10,
     "metadata": {},
     "output_type": "execute_result"
    }
   ],
   "source": [
    "min_totalFare = df.loc[:,['baseFare','totalFare','isRefundable','segmentsArrivalAirportCode','segmentsDepartureAirportCode']][(df['totalFare'] <= 23.97 )]\n",
    "\n",
    "min_totalFare.shape , min_totalFare.nunique()"
   ]
  },
  {
   "cell_type": "markdown",
   "metadata": {},
   "source": [
    "from this line of code we can understand that the minmum price of the `totalFare` column, occurs 28 times in the dataset, and from the dataset we can see that the departure airport and the arrival airport contains only 2 values which is : `SFO`,`ONT`; which means the traveler is going either from San Francisco International Airport (SFO) to Ontario International Airport (ONT) or vice versa (ONT to SFO)."
   ]
  },
  {
   "cell_type": "code",
   "execution_count": 23,
   "metadata": {},
   "outputs": [
    {
     "data": {
      "text/plain": [
       "(5.1, 4407.44)"
      ]
     },
     "execution_count": 23,
     "metadata": {},
     "output_type": "execute_result"
    }
   ],
   "source": [
    "float(df['baseFare'].min()), float(df['baseFare'].max())"
   ]
  },
  {
   "cell_type": "code",
   "execution_count": 24,
   "metadata": {},
   "outputs": [
    {
     "data": {
      "text/plain": [
       "(23.97, 4752.6)"
      ]
     },
     "execution_count": 24,
     "metadata": {},
     "output_type": "execute_result"
    }
   ],
   "source": [
    "float(df['totalFare'].min()), float(df['totalFare'].max())\n"
   ]
  },
  {
   "cell_type": "code",
   "execution_count": 25,
   "metadata": {},
   "outputs": [
    {
     "data": {
      "text/html": [
       "<div>\n",
       "<style scoped>\n",
       "    .dataframe tbody tr th:only-of-type {\n",
       "        vertical-align: middle;\n",
       "    }\n",
       "\n",
       "    .dataframe tbody tr th {\n",
       "        vertical-align: top;\n",
       "    }\n",
       "\n",
       "    .dataframe thead th {\n",
       "        text-align: right;\n",
       "    }\n",
       "</style>\n",
       "<table border=\"1\" class=\"dataframe\">\n",
       "  <thead>\n",
       "    <tr style=\"text-align: right;\">\n",
       "      <th></th>\n",
       "      <th>legId</th>\n",
       "      <th>searchDate</th>\n",
       "      <th>flightDate</th>\n",
       "      <th>startingAirport</th>\n",
       "      <th>destinationAirport</th>\n",
       "      <th>fareBasisCode</th>\n",
       "      <th>travelDuration</th>\n",
       "      <th>elapsedDays</th>\n",
       "      <th>isBasicEconomy</th>\n",
       "      <th>isRefundable</th>\n",
       "      <th>isNonStop</th>\n",
       "      <th>baseFare</th>\n",
       "      <th>totalFare</th>\n",
       "      <th>seatsRemaining</th>\n",
       "      <th>segmentsDepartureTimeEpochSeconds</th>\n",
       "      <th>segmentsDepartureTimeRaw</th>\n",
       "      <th>segmentsArrivalTimeEpochSeconds</th>\n",
       "      <th>segmentsArrivalTimeRaw</th>\n",
       "      <th>segmentsArrivalAirportCode</th>\n",
       "      <th>segmentsDepartureAirportCode</th>\n",
       "      <th>segmentsAirlineName</th>\n",
       "      <th>segmentsAirlineCode</th>\n",
       "      <th>segmentsEquipmentDescription</th>\n",
       "      <th>segmentsDurationInSeconds</th>\n",
       "      <th>segmentsDistance</th>\n",
       "      <th>segmentsCabinCode</th>\n",
       "      <th>totalTravelDistance</th>\n",
       "      <th>departure</th>\n",
       "      <th>arrival</th>\n",
       "      <th>route</th>\n",
       "      <th>full_route</th>\n",
       "    </tr>\n",
       "  </thead>\n",
       "  <tbody>\n",
       "    <tr>\n",
       "      <th>1087835</th>\n",
       "      <td>afbb806b2657ae577266a926030b71f3</td>\n",
       "      <td>2022-04-19</td>\n",
       "      <td>2022-04-23</td>\n",
       "      <td>LAX</td>\n",
       "      <td>JFK</td>\n",
       "      <td>FA3AA</td>\n",
       "      <td>PT5H30M</td>\n",
       "      <td>0</td>\n",
       "      <td>False</td>\n",
       "      <td>False</td>\n",
       "      <td>True</td>\n",
       "      <td>4407.44</td>\n",
       "      <td>4752.6</td>\n",
       "      <td>2</td>\n",
       "      <td>1650736800</td>\n",
       "      <td>2022-04-23T11:00:00.000-07:00</td>\n",
       "      <td>1650756600</td>\n",
       "      <td>2022-04-23T19:30:00.000-04:00</td>\n",
       "      <td>JFK</td>\n",
       "      <td>LAX</td>\n",
       "      <td>American Airlines</td>\n",
       "      <td>AA</td>\n",
       "      <td>AIRBUS INDUSTRIE A321 SHARKLETS</td>\n",
       "      <td>19800</td>\n",
       "      <td>2458</td>\n",
       "      <td>first</td>\n",
       "      <td>2458</td>\n",
       "      <td>LAX</td>\n",
       "      <td>JFK</td>\n",
       "      <td>LAX-&gt;JFK</td>\n",
       "      <td>LAX -&gt; JFK</td>\n",
       "    </tr>\n",
       "    <tr>\n",
       "      <th>1094680</th>\n",
       "      <td>b7d27647a9254b4ae4eda74e1585f88f</td>\n",
       "      <td>2022-04-19</td>\n",
       "      <td>2022-04-24</td>\n",
       "      <td>LAX</td>\n",
       "      <td>JFK</td>\n",
       "      <td>FA3AA</td>\n",
       "      <td>PT5H28M</td>\n",
       "      <td>1</td>\n",
       "      <td>False</td>\n",
       "      <td>False</td>\n",
       "      <td>True</td>\n",
       "      <td>4407.44</td>\n",
       "      <td>4752.6</td>\n",
       "      <td>4</td>\n",
       "      <td>1650862800</td>\n",
       "      <td>2022-04-24T22:00:00.000-07:00</td>\n",
       "      <td>1650882480</td>\n",
       "      <td>2022-04-25T06:28:00.000-04:00</td>\n",
       "      <td>JFK</td>\n",
       "      <td>LAX</td>\n",
       "      <td>American Airlines</td>\n",
       "      <td>AA</td>\n",
       "      <td>AIRBUS INDUSTRIE A321 SHARKLETS</td>\n",
       "      <td>19680</td>\n",
       "      <td>2458</td>\n",
       "      <td>first</td>\n",
       "      <td>2458</td>\n",
       "      <td>LAX</td>\n",
       "      <td>JFK</td>\n",
       "      <td>LAX-&gt;JFK</td>\n",
       "      <td>LAX -&gt; JFK</td>\n",
       "    </tr>\n",
       "    <tr>\n",
       "      <th>1094681</th>\n",
       "      <td>958f5d2e8d9d081ced07871dfdd1fd9e</td>\n",
       "      <td>2022-04-19</td>\n",
       "      <td>2022-04-24</td>\n",
       "      <td>LAX</td>\n",
       "      <td>JFK</td>\n",
       "      <td>FA3AA</td>\n",
       "      <td>PT5H32M</td>\n",
       "      <td>0</td>\n",
       "      <td>False</td>\n",
       "      <td>False</td>\n",
       "      <td>True</td>\n",
       "      <td>4407.44</td>\n",
       "      <td>4752.6</td>\n",
       "      <td>1</td>\n",
       "      <td>1650805200</td>\n",
       "      <td>2022-04-24T06:00:00.000-07:00</td>\n",
       "      <td>1650825120</td>\n",
       "      <td>2022-04-24T14:32:00.000-04:00</td>\n",
       "      <td>JFK</td>\n",
       "      <td>LAX</td>\n",
       "      <td>American Airlines</td>\n",
       "      <td>AA</td>\n",
       "      <td>AIRBUS INDUSTRIE A321 SHARKLETS</td>\n",
       "      <td>19920</td>\n",
       "      <td>2458</td>\n",
       "      <td>first</td>\n",
       "      <td>2458</td>\n",
       "      <td>LAX</td>\n",
       "      <td>JFK</td>\n",
       "      <td>LAX-&gt;JFK</td>\n",
       "      <td>LAX -&gt; JFK</td>\n",
       "    </tr>\n",
       "    <tr>\n",
       "      <th>1097185</th>\n",
       "      <td>d4ec7414ce7ee3a871ef513d64ad6032</td>\n",
       "      <td>2022-04-19</td>\n",
       "      <td>2022-04-24</td>\n",
       "      <td>SFO</td>\n",
       "      <td>JFK</td>\n",
       "      <td>FA3AA</td>\n",
       "      <td>PT5H51M</td>\n",
       "      <td>0</td>\n",
       "      <td>False</td>\n",
       "      <td>False</td>\n",
       "      <td>True</td>\n",
       "      <td>4407.44</td>\n",
       "      <td>4752.6</td>\n",
       "      <td>1</td>\n",
       "      <td>1650823440</td>\n",
       "      <td>2022-04-24T11:04:00.000-07:00</td>\n",
       "      <td>1650844500</td>\n",
       "      <td>2022-04-24T19:55:00.000-04:00</td>\n",
       "      <td>JFK</td>\n",
       "      <td>SFO</td>\n",
       "      <td>American Airlines</td>\n",
       "      <td>AA</td>\n",
       "      <td>AIRBUS INDUSTRIE A321 SHARKLETS</td>\n",
       "      <td>21060</td>\n",
       "      <td>2566</td>\n",
       "      <td>first</td>\n",
       "      <td>2566</td>\n",
       "      <td>SFO</td>\n",
       "      <td>JFK</td>\n",
       "      <td>SFO-&gt;JFK</td>\n",
       "      <td>SFO -&gt; JFK</td>\n",
       "    </tr>\n",
       "    <tr>\n",
       "      <th>1905995</th>\n",
       "      <td>404c074e4c744aadb321712d88ed60cf</td>\n",
       "      <td>2022-04-21</td>\n",
       "      <td>2022-04-23</td>\n",
       "      <td>LAX</td>\n",
       "      <td>JFK</td>\n",
       "      <td>FA3AA</td>\n",
       "      <td>PT5H32M</td>\n",
       "      <td>0</td>\n",
       "      <td>False</td>\n",
       "      <td>False</td>\n",
       "      <td>True</td>\n",
       "      <td>4407.44</td>\n",
       "      <td>4752.6</td>\n",
       "      <td>1</td>\n",
       "      <td>1650729600</td>\n",
       "      <td>2022-04-23T09:00:00.000-07:00</td>\n",
       "      <td>1650749520</td>\n",
       "      <td>2022-04-23T17:32:00.000-04:00</td>\n",
       "      <td>JFK</td>\n",
       "      <td>LAX</td>\n",
       "      <td>American Airlines</td>\n",
       "      <td>AA</td>\n",
       "      <td>AIRBUS INDUSTRIE A321 SHARKLETS</td>\n",
       "      <td>19920</td>\n",
       "      <td>2458</td>\n",
       "      <td>first</td>\n",
       "      <td>2458</td>\n",
       "      <td>LAX</td>\n",
       "      <td>JFK</td>\n",
       "      <td>LAX-&gt;JFK</td>\n",
       "      <td>LAX -&gt; JFK</td>\n",
       "    </tr>\n",
       "    <tr>\n",
       "      <th>1912694</th>\n",
       "      <td>b7d27647a9254b4ae4eda74e1585f88f</td>\n",
       "      <td>2022-04-21</td>\n",
       "      <td>2022-04-24</td>\n",
       "      <td>LAX</td>\n",
       "      <td>JFK</td>\n",
       "      <td>FA3AA</td>\n",
       "      <td>PT5H28M</td>\n",
       "      <td>1</td>\n",
       "      <td>False</td>\n",
       "      <td>False</td>\n",
       "      <td>True</td>\n",
       "      <td>4407.44</td>\n",
       "      <td>4752.6</td>\n",
       "      <td>4</td>\n",
       "      <td>1650862800</td>\n",
       "      <td>2022-04-24T22:00:00.000-07:00</td>\n",
       "      <td>1650882480</td>\n",
       "      <td>2022-04-25T06:28:00.000-04:00</td>\n",
       "      <td>JFK</td>\n",
       "      <td>LAX</td>\n",
       "      <td>American Airlines</td>\n",
       "      <td>AA</td>\n",
       "      <td>AIRBUS INDUSTRIE A321 SHARKLETS</td>\n",
       "      <td>19680</td>\n",
       "      <td>2458</td>\n",
       "      <td>first</td>\n",
       "      <td>2458</td>\n",
       "      <td>LAX</td>\n",
       "      <td>JFK</td>\n",
       "      <td>LAX-&gt;JFK</td>\n",
       "      <td>LAX -&gt; JFK</td>\n",
       "    </tr>\n",
       "    <tr>\n",
       "      <th>1914918</th>\n",
       "      <td>d4ec7414ce7ee3a871ef513d64ad6032</td>\n",
       "      <td>2022-04-21</td>\n",
       "      <td>2022-04-24</td>\n",
       "      <td>SFO</td>\n",
       "      <td>JFK</td>\n",
       "      <td>FA3AA</td>\n",
       "      <td>PT5H51M</td>\n",
       "      <td>0</td>\n",
       "      <td>False</td>\n",
       "      <td>False</td>\n",
       "      <td>True</td>\n",
       "      <td>4407.44</td>\n",
       "      <td>4752.6</td>\n",
       "      <td>2</td>\n",
       "      <td>1650823440</td>\n",
       "      <td>2022-04-24T11:04:00.000-07:00</td>\n",
       "      <td>1650844500</td>\n",
       "      <td>2022-04-24T19:55:00.000-04:00</td>\n",
       "      <td>JFK</td>\n",
       "      <td>SFO</td>\n",
       "      <td>American Airlines</td>\n",
       "      <td>AA</td>\n",
       "      <td>AIRBUS INDUSTRIE A321 SHARKLETS</td>\n",
       "      <td>21060</td>\n",
       "      <td>2566</td>\n",
       "      <td>first</td>\n",
       "      <td>2566</td>\n",
       "      <td>SFO</td>\n",
       "      <td>JFK</td>\n",
       "      <td>SFO-&gt;JFK</td>\n",
       "      <td>SFO -&gt; JFK</td>\n",
       "    </tr>\n",
       "  </tbody>\n",
       "</table>\n",
       "</div>"
      ],
      "text/plain": [
       "                                    legId  searchDate  flightDate  \\\n",
       "1087835  afbb806b2657ae577266a926030b71f3  2022-04-19  2022-04-23   \n",
       "1094680  b7d27647a9254b4ae4eda74e1585f88f  2022-04-19  2022-04-24   \n",
       "1094681  958f5d2e8d9d081ced07871dfdd1fd9e  2022-04-19  2022-04-24   \n",
       "1097185  d4ec7414ce7ee3a871ef513d64ad6032  2022-04-19  2022-04-24   \n",
       "1905995  404c074e4c744aadb321712d88ed60cf  2022-04-21  2022-04-23   \n",
       "1912694  b7d27647a9254b4ae4eda74e1585f88f  2022-04-21  2022-04-24   \n",
       "1914918  d4ec7414ce7ee3a871ef513d64ad6032  2022-04-21  2022-04-24   \n",
       "\n",
       "        startingAirport destinationAirport fareBasisCode travelDuration  \\\n",
       "1087835             LAX                JFK         FA3AA        PT5H30M   \n",
       "1094680             LAX                JFK         FA3AA        PT5H28M   \n",
       "1094681             LAX                JFK         FA3AA        PT5H32M   \n",
       "1097185             SFO                JFK         FA3AA        PT5H51M   \n",
       "1905995             LAX                JFK         FA3AA        PT5H32M   \n",
       "1912694             LAX                JFK         FA3AA        PT5H28M   \n",
       "1914918             SFO                JFK         FA3AA        PT5H51M   \n",
       "\n",
       "         elapsedDays  isBasicEconomy  isRefundable  isNonStop  baseFare  \\\n",
       "1087835            0           False         False       True   4407.44   \n",
       "1094680            1           False         False       True   4407.44   \n",
       "1094681            0           False         False       True   4407.44   \n",
       "1097185            0           False         False       True   4407.44   \n",
       "1905995            0           False         False       True   4407.44   \n",
       "1912694            1           False         False       True   4407.44   \n",
       "1914918            0           False         False       True   4407.44   \n",
       "\n",
       "         totalFare  seatsRemaining segmentsDepartureTimeEpochSeconds  \\\n",
       "1087835     4752.6               2                        1650736800   \n",
       "1094680     4752.6               4                        1650862800   \n",
       "1094681     4752.6               1                        1650805200   \n",
       "1097185     4752.6               1                        1650823440   \n",
       "1905995     4752.6               1                        1650729600   \n",
       "1912694     4752.6               4                        1650862800   \n",
       "1914918     4752.6               2                        1650823440   \n",
       "\n",
       "              segmentsDepartureTimeRaw segmentsArrivalTimeEpochSeconds  \\\n",
       "1087835  2022-04-23T11:00:00.000-07:00                      1650756600   \n",
       "1094680  2022-04-24T22:00:00.000-07:00                      1650882480   \n",
       "1094681  2022-04-24T06:00:00.000-07:00                      1650825120   \n",
       "1097185  2022-04-24T11:04:00.000-07:00                      1650844500   \n",
       "1905995  2022-04-23T09:00:00.000-07:00                      1650749520   \n",
       "1912694  2022-04-24T22:00:00.000-07:00                      1650882480   \n",
       "1914918  2022-04-24T11:04:00.000-07:00                      1650844500   \n",
       "\n",
       "                segmentsArrivalTimeRaw segmentsArrivalAirportCode  \\\n",
       "1087835  2022-04-23T19:30:00.000-04:00                        JFK   \n",
       "1094680  2022-04-25T06:28:00.000-04:00                        JFK   \n",
       "1094681  2022-04-24T14:32:00.000-04:00                        JFK   \n",
       "1097185  2022-04-24T19:55:00.000-04:00                        JFK   \n",
       "1905995  2022-04-23T17:32:00.000-04:00                        JFK   \n",
       "1912694  2022-04-25T06:28:00.000-04:00                        JFK   \n",
       "1914918  2022-04-24T19:55:00.000-04:00                        JFK   \n",
       "\n",
       "        segmentsDepartureAirportCode segmentsAirlineName segmentsAirlineCode  \\\n",
       "1087835                          LAX   American Airlines                  AA   \n",
       "1094680                          LAX   American Airlines                  AA   \n",
       "1094681                          LAX   American Airlines                  AA   \n",
       "1097185                          SFO   American Airlines                  AA   \n",
       "1905995                          LAX   American Airlines                  AA   \n",
       "1912694                          LAX   American Airlines                  AA   \n",
       "1914918                          SFO   American Airlines                  AA   \n",
       "\n",
       "            segmentsEquipmentDescription segmentsDurationInSeconds  \\\n",
       "1087835  AIRBUS INDUSTRIE A321 SHARKLETS                     19800   \n",
       "1094680  AIRBUS INDUSTRIE A321 SHARKLETS                     19680   \n",
       "1094681  AIRBUS INDUSTRIE A321 SHARKLETS                     19920   \n",
       "1097185  AIRBUS INDUSTRIE A321 SHARKLETS                     21060   \n",
       "1905995  AIRBUS INDUSTRIE A321 SHARKLETS                     19920   \n",
       "1912694  AIRBUS INDUSTRIE A321 SHARKLETS                     19680   \n",
       "1914918  AIRBUS INDUSTRIE A321 SHARKLETS                     21060   \n",
       "\n",
       "        segmentsDistance segmentsCabinCode  totalTravelDistance departure  \\\n",
       "1087835             2458             first                 2458       LAX   \n",
       "1094680             2458             first                 2458       LAX   \n",
       "1094681             2458             first                 2458       LAX   \n",
       "1097185             2566             first                 2566       SFO   \n",
       "1905995             2458             first                 2458       LAX   \n",
       "1912694             2458             first                 2458       LAX   \n",
       "1914918             2566             first                 2566       SFO   \n",
       "\n",
       "        arrival     route  full_route  \n",
       "1087835     JFK  LAX->JFK  LAX -> JFK  \n",
       "1094680     JFK  LAX->JFK  LAX -> JFK  \n",
       "1094681     JFK  LAX->JFK  LAX -> JFK  \n",
       "1097185     JFK  SFO->JFK  SFO -> JFK  \n",
       "1905995     JFK  LAX->JFK  LAX -> JFK  \n",
       "1912694     JFK  LAX->JFK  LAX -> JFK  \n",
       "1914918     JFK  SFO->JFK  SFO -> JFK  "
      ]
     },
     "execution_count": 25,
     "metadata": {},
     "output_type": "execute_result"
    }
   ],
   "source": [
    "df[df['totalFare'] == 4752.6]"
   ]
  },
  {
   "cell_type": "markdown",
   "metadata": {},
   "source": [
    "we can see here that: \n",
    "-  the minmum fare price without taxes is `$ 5.1`, taxes applied = `$ 23.97`\n",
    "-  the maximum fare price without taxes is `$ 4407.1`, taxes applied = `$ 4752.6`\n"
   ]
  },
  {
   "cell_type": "markdown",
   "metadata": {},
   "source": [
    "## POSSIBLE ANSWER"
   ]
  },
  {
   "cell_type": "markdown",
   "metadata": {},
   "source": [
    "#### Count the occurences of airports -- 1st question\n",
    "\n",
    "- what is the most used airport for arrivals ? \n",
    "- what is the most used airport for departures ? \n",
    "- what is the most used airport for both cases ? "
   ]
  },
  {
   "cell_type": "code",
   "execution_count": 11,
   "metadata": {},
   "outputs": [],
   "source": [
    "arrival_airports = df['segmentsArrivalAirportCode'].str.split(r'\\|\\|').explode()\n",
    "arrival_airport_count = arrival_airports.value_counts()"
   ]
  },
  {
   "cell_type": "code",
   "execution_count": 12,
   "metadata": {},
   "outputs": [],
   "source": [
    "departure_airports = df['segmentsDepartureAirportCode'].str.split(r'\\|\\|').explode()\n",
    "departure_airport_count = departure_airports.value_counts()"
   ]
  },
  {
   "cell_type": "code",
   "execution_count": 13,
   "metadata": {},
   "outputs": [],
   "source": [
    "airport_count = pd.concat([arrival_airport_count,departure_airport_count], axis=1)\n",
    "airport_count.columns = ['arrival_airport_count','departure_airport_count']"
   ]
  },
  {
   "cell_type": "code",
   "execution_count": 14,
   "metadata": {},
   "outputs": [],
   "source": [
    "airport_count['total_arrival_departure'] = airport_count['arrival_airport_count'] +  airport_count['departure_airport_count']"
   ]
  },
  {
   "cell_type": "code",
   "execution_count": 23,
   "metadata": {},
   "outputs": [
    {
     "data": {
      "text/html": [
       "<div>\n",
       "<style scoped>\n",
       "    .dataframe tbody tr th:only-of-type {\n",
       "        vertical-align: middle;\n",
       "    }\n",
       "\n",
       "    .dataframe tbody tr th {\n",
       "        vertical-align: top;\n",
       "    }\n",
       "\n",
       "    .dataframe thead th {\n",
       "        text-align: right;\n",
       "    }\n",
       "</style>\n",
       "<table border=\"1\" class=\"dataframe\">\n",
       "  <thead>\n",
       "    <tr style=\"text-align: right;\">\n",
       "      <th></th>\n",
       "      <th>arrival_airport_count</th>\n",
       "      <th>departure_airport_count</th>\n",
       "      <th>total_arrival_departure</th>\n",
       "    </tr>\n",
       "  </thead>\n",
       "  <tbody>\n",
       "    <tr>\n",
       "      <th>ORD</th>\n",
       "      <td>289223</td>\n",
       "      <td>287757</td>\n",
       "      <td>576980</td>\n",
       "    </tr>\n",
       "    <tr>\n",
       "      <th>ATL</th>\n",
       "      <td>269600</td>\n",
       "      <td>262723</td>\n",
       "      <td>532323</td>\n",
       "    </tr>\n",
       "    <tr>\n",
       "      <th>CLT</th>\n",
       "      <td>232016</td>\n",
       "      <td>227715</td>\n",
       "      <td>459731</td>\n",
       "    </tr>\n",
       "    <tr>\n",
       "      <th>LAX</th>\n",
       "      <td>221879</td>\n",
       "      <td>225488</td>\n",
       "      <td>447367</td>\n",
       "    </tr>\n",
       "    <tr>\n",
       "      <th>EWR</th>\n",
       "      <td>194117</td>\n",
       "      <td>193932</td>\n",
       "      <td>388049</td>\n",
       "    </tr>\n",
       "  </tbody>\n",
       "</table>\n",
       "</div>"
      ],
      "text/plain": [
       "     arrival_airport_count  departure_airport_count  total_arrival_departure\n",
       "ORD                 289223                   287757                   576980\n",
       "ATL                 269600                   262723                   532323\n",
       "CLT                 232016                   227715                   459731\n",
       "LAX                 221879                   225488                   447367\n",
       "EWR                 194117                   193932                   388049"
      ]
     },
     "execution_count": 23,
     "metadata": {},
     "output_type": "execute_result"
    }
   ],
   "source": [
    "airport_count.head(5)"
   ]
  },
  {
   "cell_type": "code",
   "execution_count": 29,
   "metadata": {},
   "outputs": [
    {
     "data": {
      "text/plain": [
       "<Axes: >"
      ]
     },
     "execution_count": 29,
     "metadata": {},
     "output_type": "execute_result"
    },
    {
     "data": {
      "image/png": "[encoded data removed]",
      "text/plain": [
       "<Figure size 640x480 with 1 Axes>"
      ]
     },
     "metadata": {},
     "output_type": "display_data"
    }
   ],
   "source": [
    "airport_count['arrival_airport_count'].head().plot(kind='barh')\n"
   ]
  },
  {
   "cell_type": "code",
   "execution_count": 31,
   "metadata": {},
   "outputs": [
    {
     "data": {
      "text/plain": [
       "<Axes: >"
      ]
     },
     "execution_count": 31,
     "metadata": {},
     "output_type": "execute_result"
    },
    {
     "data": {
      "image/png": "[encoded data removed]",
      "text/plain": [
       "<Figure size 640x480 with 1 Axes>"
      ]
     },
     "metadata": {},
     "output_type": "display_data"
    }
   ],
   "source": [
    "airport_count['departure_airport_count'].head().plot(kind='barh')"
   ]
  },
  {
   "cell_type": "markdown",
   "metadata": {},
   "source": [
    "## POSSIBLE ANSWER"
   ]
  },
  {
   "cell_type": "markdown",
   "metadata": {},
   "source": [
    "#### Count the number of multi-leg flights\n",
    "- `how many multi-leg flights are there in the dataset ? `\n",
    "- what is the most used connection ? ` HERE 😍`\n",
    "- how many travelers use a multi-leg flight ?  `use a histogram`\n",
    "- are multi-leg flights cheaper  ?  `use a histogram`\n",
    "- what kind of connections for the full flights are used ?  `later ... `"
   ]
  },
  {
   "cell_type": "markdown",
   "metadata": {},
   "source": [
    "#### Question: What is the count of the multi-leg flights ? "
   ]
  },
  {
   "cell_type": "code",
   "execution_count": 32,
   "metadata": {},
   "outputs": [],
   "source": [
    "# count the number of multi-leg flights\n",
    "filter = df['segmentsArrivalAirportCode'].str.contains(r'\\|\\|', na=False) # what is na= ? "
   ]
  },
  {
   "cell_type": "code",
   "execution_count": 33,
   "metadata": {},
   "outputs": [],
   "source": [
    "number_multi_leg_flights = len(df[filter][['segmentsArrivalAirportCode','segmentsDepartureAirportCode']]) # output = 1,430,064 rows"
   ]
  },
  {
   "cell_type": "code",
   "execution_count": 37,
   "metadata": {},
   "outputs": [
    {
     "name": "stdout",
     "output_type": "stream",
     "text": [
      " The number of multi-leg flights currently 1430064\n"
     ]
    }
   ],
   "source": [
    "print(f' The number of multi-leg flights currently {number_multi_leg_flights}')"
   ]
  },
  {
   "cell_type": "markdown",
   "metadata": {},
   "source": [
    "### Identify Common Connections in Multi-Leg Flights\n",
    "\n",
    "- by the common connection i am searching here for something like: `LGA --> ORD`\n",
    "- So by a common connection we are refering for something like departure:\n",
    "1. Departure Column -> `ATL||CMH`\t\n",
    "2. Arrival Column -> `CMH||DTW`\n",
    "\n",
    "what i am trying to see is from the Departure Column `ATL` and from the Arrival Column `CMH` to see which connections from 1 place to another place is being used the most."
   ]
  },
  {
   "cell_type": "code",
   "execution_count": 38,
   "metadata": {},
   "outputs": [
    {
     "data": {
      "text/html": [
       "<div>\n",
       "<style scoped>\n",
       "    .dataframe tbody tr th:only-of-type {\n",
       "        vertical-align: middle;\n",
       "    }\n",
       "\n",
       "    .dataframe tbody tr th {\n",
       "        vertical-align: top;\n",
       "    }\n",
       "\n",
       "    .dataframe thead th {\n",
       "        text-align: right;\n",
       "    }\n",
       "</style>\n",
       "<table border=\"1\" class=\"dataframe\">\n",
       "  <thead>\n",
       "    <tr style=\"text-align: right;\">\n",
       "      <th></th>\n",
       "      <th>segmentsDepartureAirportCode</th>\n",
       "      <th>segmentsArrivalAirportCode</th>\n",
       "    </tr>\n",
       "  </thead>\n",
       "  <tbody>\n",
       "    <tr>\n",
       "      <th>0</th>\n",
       "      <td>ATL</td>\n",
       "      <td>BOS</td>\n",
       "    </tr>\n",
       "    <tr>\n",
       "      <th>1</th>\n",
       "      <td>ATL</td>\n",
       "      <td>BOS</td>\n",
       "    </tr>\n",
       "    <tr>\n",
       "      <th>2</th>\n",
       "      <td>ATL</td>\n",
       "      <td>BOS</td>\n",
       "    </tr>\n",
       "    <tr>\n",
       "      <th>3</th>\n",
       "      <td>ATL</td>\n",
       "      <td>BOS</td>\n",
       "    </tr>\n",
       "    <tr>\n",
       "      <th>4</th>\n",
       "      <td>ATL</td>\n",
       "      <td>BOS</td>\n",
       "    </tr>\n",
       "    <tr>\n",
       "      <th>...</th>\n",
       "      <td>...</td>\n",
       "      <td>...</td>\n",
       "    </tr>\n",
       "    <tr>\n",
       "      <th>1952072</th>\n",
       "      <td>ATL||CMH</td>\n",
       "      <td>CMH||DTW</td>\n",
       "    </tr>\n",
       "    <tr>\n",
       "      <th>1952073</th>\n",
       "      <td>ATL||CHA</td>\n",
       "      <td>CHA||DTW</td>\n",
       "    </tr>\n",
       "    <tr>\n",
       "      <th>1952074</th>\n",
       "      <td>ATL||ORF</td>\n",
       "      <td>ORF||DTW</td>\n",
       "    </tr>\n",
       "    <tr>\n",
       "      <th>1952075</th>\n",
       "      <td>ATL</td>\n",
       "      <td>EWR</td>\n",
       "    </tr>\n",
       "    <tr>\n",
       "      <th>1952076</th>\n",
       "      <td>ATL||CLT</td>\n",
       "      <td>CLT||EWR</td>\n",
       "    </tr>\n",
       "  </tbody>\n",
       "</table>\n",
       "<p>1952077 rows × 2 columns</p>\n",
       "</div>"
      ],
      "text/plain": [
       "        segmentsDepartureAirportCode segmentsArrivalAirportCode\n",
       "0                                ATL                        BOS\n",
       "1                                ATL                        BOS\n",
       "2                                ATL                        BOS\n",
       "3                                ATL                        BOS\n",
       "4                                ATL                        BOS\n",
       "...                              ...                        ...\n",
       "1952072                     ATL||CMH                   CMH||DTW\n",
       "1952073                     ATL||CHA                   CHA||DTW\n",
       "1952074                     ATL||ORF                   ORF||DTW\n",
       "1952075                          ATL                        EWR\n",
       "1952076                     ATL||CLT                   CLT||EWR\n",
       "\n",
       "[1952077 rows x 2 columns]"
      ]
     },
     "execution_count": 38,
     "metadata": {},
     "output_type": "execute_result"
    }
   ],
   "source": [
    "df[['segmentsDepartureAirportCode','segmentsArrivalAirportCode']]"
   ]
  },
  {
   "cell_type": "code",
   "execution_count": 64,
   "metadata": {},
   "outputs": [],
   "source": [
    "# Extract the first departure and arrival airport codes\n",
    "# taking the first column from the list as explained above\n",
    "df['departure'] = df['segmentsDepartureAirportCode'].str.split(r'\\|\\|', expand=True)[0] \n",
    "df['arrival'] = df['segmentsArrivalAirportCode'].str.split(r'\\|\\|', expand=True)[0] # the 1st item in the 'list' <- easier to think of it as a list\n",
    "\n"
   ]
  },
  {
   "cell_type": "code",
   "execution_count": 65,
   "metadata": {},
   "outputs": [],
   "source": [
    "# Create a \"route\" column\n",
    "df['route'] = df['departure'] + \"->\" + df['arrival']"
   ]
  },
  {
   "cell_type": "code",
   "execution_count": 39,
   "metadata": {},
   "outputs": [
    {
     "data": {
      "text/html": [
       "<div>\n",
       "<style scoped>\n",
       "    .dataframe tbody tr th:only-of-type {\n",
       "        vertical-align: middle;\n",
       "    }\n",
       "\n",
       "    .dataframe tbody tr th {\n",
       "        vertical-align: top;\n",
       "    }\n",
       "\n",
       "    .dataframe thead th {\n",
       "        text-align: right;\n",
       "    }\n",
       "</style>\n",
       "<table border=\"1\" class=\"dataframe\">\n",
       "  <thead>\n",
       "    <tr style=\"text-align: right;\">\n",
       "      <th></th>\n",
       "      <th>route</th>\n",
       "      <th>count</th>\n",
       "    </tr>\n",
       "  </thead>\n",
       "  <tbody>\n",
       "    <tr>\n",
       "      <th>0</th>\n",
       "      <td>LGA-&gt;ORD</td>\n",
       "      <td>31230</td>\n",
       "    </tr>\n",
       "    <tr>\n",
       "      <th>1</th>\n",
       "      <td>OAK-&gt;LAX</td>\n",
       "      <td>26207</td>\n",
       "    </tr>\n",
       "    <tr>\n",
       "      <th>2</th>\n",
       "      <td>BOS-&gt;EWR</td>\n",
       "      <td>24519</td>\n",
       "    </tr>\n",
       "    <tr>\n",
       "      <th>3</th>\n",
       "      <td>MIA-&gt;ATL</td>\n",
       "      <td>24067</td>\n",
       "    </tr>\n",
       "    <tr>\n",
       "      <th>4</th>\n",
       "      <td>PHL-&gt;ORD</td>\n",
       "      <td>23474</td>\n",
       "    </tr>\n",
       "    <tr>\n",
       "      <th>...</th>\n",
       "      <td>...</td>\n",
       "      <td>...</td>\n",
       "    </tr>\n",
       "    <tr>\n",
       "      <th>1041</th>\n",
       "      <td>CLT-&gt;GRR</td>\n",
       "      <td>1</td>\n",
       "    </tr>\n",
       "    <tr>\n",
       "      <th>1042</th>\n",
       "      <td>CLT-&gt;ABE</td>\n",
       "      <td>1</td>\n",
       "    </tr>\n",
       "    <tr>\n",
       "      <th>1043</th>\n",
       "      <td>SFO-&gt;BNA</td>\n",
       "      <td>1</td>\n",
       "    </tr>\n",
       "    <tr>\n",
       "      <th>1044</th>\n",
       "      <td>EWR-&gt;STL</td>\n",
       "      <td>1</td>\n",
       "    </tr>\n",
       "    <tr>\n",
       "      <th>1045</th>\n",
       "      <td>DFW-&gt;SMF</td>\n",
       "      <td>1</td>\n",
       "    </tr>\n",
       "  </tbody>\n",
       "</table>\n",
       "<p>1046 rows × 2 columns</p>\n",
       "</div>"
      ],
      "text/plain": [
       "         route  count\n",
       "0     LGA->ORD  31230\n",
       "1     OAK->LAX  26207\n",
       "2     BOS->EWR  24519\n",
       "3     MIA->ATL  24067\n",
       "4     PHL->ORD  23474\n",
       "...        ...    ...\n",
       "1041  CLT->GRR      1\n",
       "1042  CLT->ABE      1\n",
       "1043  SFO->BNA      1\n",
       "1044  EWR->STL      1\n",
       "1045  DFW->SMF      1\n",
       "\n",
       "[1046 rows x 2 columns]"
      ]
     },
     "execution_count": 39,
     "metadata": {},
     "output_type": "execute_result"
    }
   ],
   "source": [
    "# 'value_counts()' returns a dataframe with the column name and the count of each distinct element in the column\n",
    "\n",
    "df['route'].value_counts().reset_index()"
   ]
  },
  {
   "cell_type": "code",
   "execution_count": 49,
   "metadata": {},
   "outputs": [
    {
     "data": {
      "text/plain": [
       "Text(0, 0.5, 'Connection')"
      ]
     },
     "execution_count": 49,
     "metadata": {},
     "output_type": "execute_result"
    },
    {
     "data": {
      "image/png": "[encoded data removed]",
      "text/plain": [
       "<Figure size 640x480 with 1 Axes>"
      ]
     },
     "metadata": {},
     "output_type": "display_data"
    }
   ],
   "source": [
    "sns.set_theme()\n",
    "plt.title(\"Top conncections used \")\n",
    "df['route'].value_counts().head(5).plot(kind='barh')\n",
    "plt.xlabel('Count')\n",
    "plt.ylabel('Connection')\n"
   ]
  },
  {
   "cell_type": "code",
   "execution_count": 72,
   "metadata": {},
   "outputs": [
    {
     "data": {
      "text/plain": [
       "segmentsDepartureAirportCode    ATL||CMH\n",
       "segmentsArrivalAirportCode      CMH||DTW\n",
       "Name: 1952072, dtype: object"
      ]
     },
     "execution_count": 72,
     "metadata": {},
     "output_type": "execute_result"
    }
   ],
   "source": [
    "df[['segmentsDepartureAirportCode','segmentsArrivalAirportCode']].iloc[1952072,:]"
   ]
  },
  {
   "cell_type": "markdown",
   "metadata": {},
   "source": [
    "## THE MOST COMMON CONNECTION IS LGA->ORD WHICH IS ?\n",
    "\n",
    "`LaGuardia Airport (LGA) in New York City to O’Hare International Airport (ORD) in Chicago.`"
   ]
  },
  {
   "cell_type": "code",
   "execution_count": 75,
   "metadata": {},
   "outputs": [],
   "source": [
    "# Count occurrences of each route\n",
    "route_counts = df['route'].value_counts().reset_index() # a very cool trick which is the reset_index()\n",
    "route_counts.columns = ['Route', 'Count']"
   ]
  },
  {
   "cell_type": "markdown",
   "metadata": {},
   "source": [
    "these are the most popular route as start to departure, `but it may be just a transit`\n",
    "\n",
    "i would like to know the most popular route as start to finish ☕️😆"
   ]
  },
  {
   "cell_type": "markdown",
   "metadata": {},
   "source": [
    "### MAKE THE FOLLOWING CODE FASTER"
   ]
  },
  {
   "cell_type": "markdown",
   "metadata": {},
   "source": [
    "### Question: what is the most used full connection as in `departure to destination`? \n",
    "\n",
    "sub-questions: \n",
    "- how many travelers use a multi-leg flight ? \n",
    "- are multi-leg flights cheaper ? \n",
    "- what kind of connections for the full flights are used ? "
   ]
  },
  {
   "cell_type": "code",
   "execution_count": 81,
   "metadata": {},
   "outputs": [],
   "source": [
    "# Split departure and arrival segments\n",
    "departure_segments = df['segmentsDepartureAirportCode'].str.split(r'\\|\\|', expand=True)\n",
    "arrival_segments = df['segmentsArrivalAirportCode'].str.split(r'\\|\\|', expand=True)"
   ]
  },
  {
   "cell_type": "code",
   "execution_count": 82,
   "metadata": {},
   "outputs": [
    {
     "data": {
      "text/html": [
       "<div>\n",
       "<style scoped>\n",
       "    .dataframe tbody tr th:only-of-type {\n",
       "        vertical-align: middle;\n",
       "    }\n",
       "\n",
       "    .dataframe tbody tr th {\n",
       "        vertical-align: top;\n",
       "    }\n",
       "\n",
       "    .dataframe thead th {\n",
       "        text-align: right;\n",
       "    }\n",
       "</style>\n",
       "<table border=\"1\" class=\"dataframe\">\n",
       "  <thead>\n",
       "    <tr style=\"text-align: right;\">\n",
       "      <th></th>\n",
       "      <th>0</th>\n",
       "      <th>1</th>\n",
       "      <th>2</th>\n",
       "      <th>3</th>\n",
       "    </tr>\n",
       "  </thead>\n",
       "  <tbody>\n",
       "    <tr>\n",
       "      <th>0</th>\n",
       "      <td>ATL</td>\n",
       "      <td></td>\n",
       "      <td></td>\n",
       "      <td></td>\n",
       "    </tr>\n",
       "    <tr>\n",
       "      <th>1</th>\n",
       "      <td>ATL</td>\n",
       "      <td></td>\n",
       "      <td></td>\n",
       "      <td></td>\n",
       "    </tr>\n",
       "    <tr>\n",
       "      <th>2</th>\n",
       "      <td>ATL</td>\n",
       "      <td></td>\n",
       "      <td></td>\n",
       "      <td></td>\n",
       "    </tr>\n",
       "    <tr>\n",
       "      <th>3</th>\n",
       "      <td>ATL</td>\n",
       "      <td></td>\n",
       "      <td></td>\n",
       "      <td></td>\n",
       "    </tr>\n",
       "    <tr>\n",
       "      <th>4</th>\n",
       "      <td>ATL</td>\n",
       "      <td></td>\n",
       "      <td></td>\n",
       "      <td></td>\n",
       "    </tr>\n",
       "    <tr>\n",
       "      <th>...</th>\n",
       "      <td>...</td>\n",
       "      <td>...</td>\n",
       "      <td>...</td>\n",
       "      <td>...</td>\n",
       "    </tr>\n",
       "    <tr>\n",
       "      <th>1952072</th>\n",
       "      <td>ATL</td>\n",
       "      <td>CMH</td>\n",
       "      <td></td>\n",
       "      <td></td>\n",
       "    </tr>\n",
       "    <tr>\n",
       "      <th>1952073</th>\n",
       "      <td>ATL</td>\n",
       "      <td>CHA</td>\n",
       "      <td></td>\n",
       "      <td></td>\n",
       "    </tr>\n",
       "    <tr>\n",
       "      <th>1952074</th>\n",
       "      <td>ATL</td>\n",
       "      <td>ORF</td>\n",
       "      <td></td>\n",
       "      <td></td>\n",
       "    </tr>\n",
       "    <tr>\n",
       "      <th>1952075</th>\n",
       "      <td>ATL</td>\n",
       "      <td></td>\n",
       "      <td></td>\n",
       "      <td></td>\n",
       "    </tr>\n",
       "    <tr>\n",
       "      <th>1952076</th>\n",
       "      <td>ATL</td>\n",
       "      <td>CLT</td>\n",
       "      <td></td>\n",
       "      <td></td>\n",
       "    </tr>\n",
       "  </tbody>\n",
       "</table>\n",
       "<p>1952077 rows × 4 columns</p>\n",
       "</div>"
      ],
      "text/plain": [
       "           0    1 2  3 \n",
       "0        ATL           \n",
       "1        ATL           \n",
       "2        ATL           \n",
       "3        ATL           \n",
       "4        ATL           \n",
       "...      ...  ... .. ..\n",
       "1952072  ATL  CMH      \n",
       "1952073  ATL  CHA      \n",
       "1952074  ATL  ORF      \n",
       "1952075  ATL           \n",
       "1952076  ATL  CLT      \n",
       "\n",
       "[1952077 rows x 4 columns]"
      ]
     },
     "execution_count": 82,
     "metadata": {},
     "output_type": "execute_result"
    }
   ],
   "source": [
    "# Fill NaN with empty strings\n",
    "departure_segments = departure_segments.fillna('')\n",
    "arrival_segments = arrival_segments.fillna('')\n",
    "\n",
    "departure_segments\n"
   ]
  },
  {
   "cell_type": "code",
   "execution_count": null,
   "metadata": {},
   "outputs": [],
   "source": [
    "dp = departure_segments.apply(lambda row: ' -> '.join(row[row != '']), axis=1)"
   ]
  },
  {
   "cell_type": "code",
   "execution_count": null,
   "metadata": {},
   "outputs": [],
   "source": [
    "ap = arrival_segments.apply(lambda row: ' -> '.join(row[row != '']), axis=1)"
   ]
  },
  {
   "cell_type": "code",
   "execution_count": null,
   "metadata": {},
   "outputs": [],
   "source": [
    "# Merge departure and arrival segments, ensuring empty segments are removed\n",
    "df['full_route'] =  dp + \" -> \" + ap"
   ]
  },
  {
   "cell_type": "code",
   "execution_count": null,
   "metadata": {},
   "outputs": [],
   "source": [
    "# Clean up any trailing \" -> \" that appears if arrival part is empty\n",
    "df['full_route'] = df['full_route'].str.rstrip(' -> ')\n"
   ]
  },
  {
   "cell_type": "markdown",
   "metadata": {},
   "source": [
    "#### Question: where people in the US usually fly to ? `as in starting point to END Destination`"
   ]
  },
  {
   "cell_type": "code",
   "execution_count": 50,
   "metadata": {},
   "outputs": [],
   "source": [
    "start_location =  df['segmentsDepartureAirportCode'].str.split(r'\\|\\|', expand=True)[0] "
   ]
  },
  {
   "cell_type": "code",
   "execution_count": 51,
   "metadata": {},
   "outputs": [],
   "source": [
    "def get_final_destination(x):\n",
    "  final = ''\n",
    "  for i in x: \n",
    "    if i != None: \n",
    "      final = i\n",
    "      \n",
    "  return final"
   ]
  },
  {
   "cell_type": "code",
   "execution_count": 52,
   "metadata": {},
   "outputs": [],
   "source": [
    "end_location = df['segmentsArrivalAirportCode'].str.split(r'\\|\\|').apply(get_final_destination)"
   ]
  },
  {
   "cell_type": "code",
   "execution_count": 53,
   "metadata": {},
   "outputs": [],
   "source": [
    "df['start_END_Destination'] = start_location + '->' + end_location"
   ]
  },
  {
   "cell_type": "code",
   "execution_count": 55,
   "metadata": {},
   "outputs": [
    {
     "data": {
      "text/html": [
       "<div>\n",
       "<style scoped>\n",
       "    .dataframe tbody tr th:only-of-type {\n",
       "        vertical-align: middle;\n",
       "    }\n",
       "\n",
       "    .dataframe tbody tr th {\n",
       "        vertical-align: top;\n",
       "    }\n",
       "\n",
       "    .dataframe thead th {\n",
       "        text-align: right;\n",
       "    }\n",
       "</style>\n",
       "<table border=\"1\" class=\"dataframe\">\n",
       "  <thead>\n",
       "    <tr style=\"text-align: right;\">\n",
       "      <th></th>\n",
       "      <th>segmentsDepartureAirportCode</th>\n",
       "      <th>segmentsArrivalAirportCode</th>\n",
       "      <th>full_route</th>\n",
       "      <th>start_END_Destination</th>\n",
       "    </tr>\n",
       "  </thead>\n",
       "  <tbody>\n",
       "    <tr>\n",
       "      <th>0</th>\n",
       "      <td>ATL</td>\n",
       "      <td>BOS</td>\n",
       "      <td>ATL -&gt; BOS</td>\n",
       "      <td>ATL-&gt;BOS</td>\n",
       "    </tr>\n",
       "    <tr>\n",
       "      <th>1</th>\n",
       "      <td>ATL</td>\n",
       "      <td>BOS</td>\n",
       "      <td>ATL -&gt; BOS</td>\n",
       "      <td>ATL-&gt;BOS</td>\n",
       "    </tr>\n",
       "    <tr>\n",
       "      <th>2</th>\n",
       "      <td>ATL</td>\n",
       "      <td>BOS</td>\n",
       "      <td>ATL -&gt; BOS</td>\n",
       "      <td>ATL-&gt;BOS</td>\n",
       "    </tr>\n",
       "    <tr>\n",
       "      <th>3</th>\n",
       "      <td>ATL</td>\n",
       "      <td>BOS</td>\n",
       "      <td>ATL -&gt; BOS</td>\n",
       "      <td>ATL-&gt;BOS</td>\n",
       "    </tr>\n",
       "    <tr>\n",
       "      <th>4</th>\n",
       "      <td>ATL</td>\n",
       "      <td>BOS</td>\n",
       "      <td>ATL -&gt; BOS</td>\n",
       "      <td>ATL-&gt;BOS</td>\n",
       "    </tr>\n",
       "    <tr>\n",
       "      <th>...</th>\n",
       "      <td>...</td>\n",
       "      <td>...</td>\n",
       "      <td>...</td>\n",
       "      <td>...</td>\n",
       "    </tr>\n",
       "    <tr>\n",
       "      <th>1952072</th>\n",
       "      <td>ATL||CMH</td>\n",
       "      <td>CMH||DTW</td>\n",
       "      <td>ATL -&gt; CMH -&gt; CMH -&gt; DTW</td>\n",
       "      <td>ATL-&gt;DTW</td>\n",
       "    </tr>\n",
       "    <tr>\n",
       "      <th>1952073</th>\n",
       "      <td>ATL||CHA</td>\n",
       "      <td>CHA||DTW</td>\n",
       "      <td>ATL -&gt; CHA -&gt; CHA -&gt; DTW</td>\n",
       "      <td>ATL-&gt;DTW</td>\n",
       "    </tr>\n",
       "    <tr>\n",
       "      <th>1952074</th>\n",
       "      <td>ATL||ORF</td>\n",
       "      <td>ORF||DTW</td>\n",
       "      <td>ATL -&gt; ORF -&gt; ORF -&gt; DTW</td>\n",
       "      <td>ATL-&gt;DTW</td>\n",
       "    </tr>\n",
       "    <tr>\n",
       "      <th>1952075</th>\n",
       "      <td>ATL</td>\n",
       "      <td>EWR</td>\n",
       "      <td>ATL -&gt; EWR</td>\n",
       "      <td>ATL-&gt;EWR</td>\n",
       "    </tr>\n",
       "    <tr>\n",
       "      <th>1952076</th>\n",
       "      <td>ATL||CLT</td>\n",
       "      <td>CLT||EWR</td>\n",
       "      <td>ATL -&gt; CLT -&gt; CLT -&gt; EWR</td>\n",
       "      <td>ATL-&gt;EWR</td>\n",
       "    </tr>\n",
       "  </tbody>\n",
       "</table>\n",
       "<p>1952077 rows × 4 columns</p>\n",
       "</div>"
      ],
      "text/plain": [
       "        segmentsDepartureAirportCode segmentsArrivalAirportCode  \\\n",
       "0                                ATL                        BOS   \n",
       "1                                ATL                        BOS   \n",
       "2                                ATL                        BOS   \n",
       "3                                ATL                        BOS   \n",
       "4                                ATL                        BOS   \n",
       "...                              ...                        ...   \n",
       "1952072                     ATL||CMH                   CMH||DTW   \n",
       "1952073                     ATL||CHA                   CHA||DTW   \n",
       "1952074                     ATL||ORF                   ORF||DTW   \n",
       "1952075                          ATL                        EWR   \n",
       "1952076                     ATL||CLT                   CLT||EWR   \n",
       "\n",
       "                       full_route start_END_Destination  \n",
       "0                      ATL -> BOS              ATL->BOS  \n",
       "1                      ATL -> BOS              ATL->BOS  \n",
       "2                      ATL -> BOS              ATL->BOS  \n",
       "3                      ATL -> BOS              ATL->BOS  \n",
       "4                      ATL -> BOS              ATL->BOS  \n",
       "...                           ...                   ...  \n",
       "1952072  ATL -> CMH -> CMH -> DTW              ATL->DTW  \n",
       "1952073  ATL -> CHA -> CHA -> DTW              ATL->DTW  \n",
       "1952074  ATL -> ORF -> ORF -> DTW              ATL->DTW  \n",
       "1952075                ATL -> EWR              ATL->EWR  \n",
       "1952076  ATL -> CLT -> CLT -> EWR              ATL->EWR  \n",
       "\n",
       "[1952077 rows x 4 columns]"
      ]
     },
     "execution_count": 55,
     "metadata": {},
     "output_type": "execute_result"
    }
   ],
   "source": [
    "df[['segmentsDepartureAirportCode','segmentsArrivalAirportCode','full_route','start_END_Destination']]"
   ]
  },
  {
   "cell_type": "code",
   "execution_count": 60,
   "metadata": {},
   "outputs": [
    {
     "data": {
      "text/plain": [
       "Text(0, 0.5, 'Start to End Destinations ')"
      ]
     },
     "execution_count": 60,
     "metadata": {},
     "output_type": "execute_result"
    },
    {
     "data": {
      "image/png": "[encoded data removed]",
      "text/plain": [
       "<Figure size 640x480 with 1 Axes>"
      ]
     },
     "metadata": {},
     "output_type": "display_data"
    }
   ],
   "source": [
    "route_counts = df['start_END_Destination'].value_counts()\n",
    "route_counts.head(5).plot(kind='barh')\n",
    "plt.xlabel(\"Count\")\n",
    "plt.ylabel(\"Start to End Destinations \")"
   ]
  },
  {
   "cell_type": "markdown",
   "metadata": {},
   "source": [
    "Now we have the count of each full route for all the airplane tickets, where we can see the `start` and the `end` destination. "
   ]
  },
  {
   "cell_type": "markdown",
   "metadata": {},
   "source": [
    "## Question: does the amount of departures affect the final totalFare of the ticket ? \n",
    "\n",
    "### Sub-Question: \n",
    "- what does most people prefer ? `direct tickets ?` | `Single Stop tickets` | `More than 1 stop tickets`\n",
    "- which one contains the cheapest fares ? \n",
    "- what is better ? travelling using the direct ticket or 2 departures or 3+ departures ? \n",
    "\n",
    "      - tell them about the min price of each type, why the minimum of the 2 departures is higher than the minimum of a single departure ? while the max tells another story ? \n"
   ]
  },
  {
   "cell_type": "code",
   "execution_count": 56,
   "metadata": {},
   "outputs": [
    {
     "data": {
      "text/plain": [
       "1952072    ATL -> CMH -> CMH -> DTW\n",
       "1952073    ATL -> CHA -> CHA -> DTW\n",
       "1952074    ATL -> ORF -> ORF -> DTW\n",
       "1952075                  ATL -> EWR\n",
       "1952076    ATL -> CLT -> CLT -> EWR\n",
       "Name: full_route, dtype: object"
      ]
     },
     "execution_count": 56,
     "metadata": {},
     "output_type": "execute_result"
    }
   ],
   "source": [
    "df['full_route'].tail()"
   ]
  },
  {
   "cell_type": "markdown",
   "metadata": {},
   "source": [
    "## `Work related to number of departures` AND `HOW IT AFFECTS THE TOTAL FARE`"
   ]
  },
  {
   "cell_type": "code",
   "execution_count": 61,
   "metadata": {},
   "outputs": [
    {
     "name": "stdout",
     "output_type": "stream",
     "text": [
      " Tickets with at least 3 departures          144024\n",
      " The Size of the original dataframe          1952077\n"
     ]
    }
   ],
   "source": [
    "# i want to catch the flights where the departure segment contains something like \n",
    "# Filter rows where column 0 contains at least two \"->\" separators\n",
    "# three_or_more_departures_df = df[df['full_route'].str.contains(r'[^ ]+ -> [^ ]+ -> ', regex=True)]\n",
    "three_or_more_departures_df = df[df['segmentsDepartureAirportCode'].str.contains(r\"^[A-Z]{3}\\|\\|[A-Z]{3}\\|\\|\", regex=True)]\n",
    "\n",
    "print(f' Tickets with at least 3 departures          {three_or_more_departures_df.shape[0]}')\n",
    "print(f' The Size of the original dataframe          {df.shape[0]}')\n",
    "\n"
   ]
  },
  {
   "cell_type": "code",
   "execution_count": 62,
   "metadata": {},
   "outputs": [
    {
     "data": {
      "text/plain": [
       "array(['ATL', 'BOS', 'CLT', 'DEN', 'DFW', 'DTW', 'EWR', 'IAD', 'JFK',\n",
       "       'LAX', 'LGA', 'MIA', 'OAK', 'ORD', 'PHL', 'SFO'], dtype=object)"
      ]
     },
     "execution_count": 62,
     "metadata": {},
     "output_type": "execute_result"
    }
   ],
   "source": [
    "df.startingAirport.unique()"
   ]
  },
  {
   "cell_type": "code",
   "execution_count": 63,
   "metadata": {},
   "outputs": [],
   "source": [
    "arrival_airports = 'segmentsArrivalAirportCode'\t\n",
    "departure_airports = 'segmentsDepartureAirportCode'\n",
    "\n",
    "# i want tickets which exactly have 2 departures\n",
    "two_departure_df = df[\n",
    "    df[departure_airports].str.contains(r\"^[A-Z]{3}\\|\\|[A-Z]{3}$\", regex=True)\n",
    "]"
   ]
  },
  {
   "cell_type": "code",
   "execution_count": 64,
   "metadata": {},
   "outputs": [],
   "source": [
    "# i want tickets which exactly have 1 departure\n",
    "nonStop_tickets = df[\n",
    "    df[departure_airports].str.contains(r\"^[A-Z]{3}$\", regex=True)\n",
    "]"
   ]
  },
  {
   "cell_type": "code",
   "execution_count": 65,
   "metadata": {},
   "outputs": [
    {
     "data": {
      "text/plain": [
       "(1286040, 144024, 522013, 1952077)"
      ]
     },
     "execution_count": 65,
     "metadata": {},
     "output_type": "execute_result"
    }
   ],
   "source": [
    "two_departure_df.shape[0],three_or_more_departures_df.shape[0],nonStop_tickets.shape[0],df.shape[0]"
   ]
  },
  {
   "cell_type": "code",
   "execution_count": 66,
   "metadata": {},
   "outputs": [
    {
     "data": {
      "text/plain": [
       "True"
      ]
     },
     "execution_count": 66,
     "metadata": {},
     "output_type": "execute_result"
    }
   ],
   "source": [
    "\n",
    "nonStop_tickets.shape[0]+ two_departure_df.shape[0] + three_or_more_departures_df.shape[0] == df.shape[0] # correct values, no df contains data from others. so all are pure correct 😍"
   ]
  },
  {
   "cell_type": "markdown",
   "metadata": {},
   "source": [
    "# `Now to the Question everyone is waiting for`, does having more Departures affects the total fare ? and  most people prefer flying through what ? "
   ]
  },
  {
   "cell_type": "code",
   "execution_count": 67,
   "metadata": {},
   "outputs": [
    {
     "data": {
      "image/png": "[encoded data removed]",
      "text/plain": [
       "<Figure size 1000x600 with 1 Axes>"
      ]
     },
     "metadata": {},
     "output_type": "display_data"
    }
   ],
   "source": [
    "import seaborn as sns\n",
    "import matplotlib.pyplot as plt\n",
    "\n",
    "plt.figure(figsize=(10, 6))\n",
    "sns.kdeplot(three_or_more_departures_df.totalFare, label='3+ Departures', fill=True, alpha=0.5)\n",
    "sns.kdeplot(two_departure_df.totalFare, label='2 Departures', fill=True, alpha=0.5)\n",
    "sns.kdeplot(nonStop_tickets.totalFare, label='1 Departure', fill=True, alpha=0.5)\n",
    "\n",
    "plt.xlabel('Total Fare')\n",
    "plt.ylabel('Density')\n",
    "plt.title('Comparison of Total Fare Distributions')\n",
    "plt.legend()\n",
    "plt.show()"
   ]
  },
  {
   "cell_type": "markdown",
   "metadata": {},
   "source": [
    " very cool graph, it is working nicely\n",
    "\n",
    "\n",
    "\n",
    " - the green part shows that the 1 departure tickets are cheaper and `most people prefer them`\n",
    " - the orange part shows that the 2 departure tickets are still preferred, they are a little bit pricier than the 1 departure, but it still `people prefer them`\n",
    "\n",
    "\n",
    "\n",
    " this graph is basically not showing the raw data exactly, they are being normalized (using windows - these windows can be using different methods such as {median, min, max, mean}) or just a simple method that is like dividing the `count/total count`.\n",
    "\n",
    "histograms are more accurate because we can play with the bins which help us get more insights much easier and faster"
   ]
  },
  {
   "cell_type": "code",
   "execution_count": 68,
   "metadata": {},
   "outputs": [
    {
     "data": {
      "image/png": "[encoded data removed]",
      "text/plain": [
       "<Figure size 1000x600 with 1 Axes>"
      ]
     },
     "metadata": {},
     "output_type": "display_data"
    }
   ],
   "source": [
    "# Plot histograms together\n",
    "plt.figure(figsize=(10, 6))\n",
    "three_or_more_departures_df.totalFare.hist(alpha=0.8, label='3+ Departures', bins=70)\n",
    "two_departure_df.totalFare.hist(alpha=0.5, label='2 Departures', bins=70)\n",
    "nonStop_tickets.totalFare.hist(alpha=0.5, label=' 1 Departure', bins=70)\n",
    "\n",
    "\n",
    "# Add labels and title\n",
    "plt.xlabel('Total Fare')\n",
    "plt.ylabel('Frequency')\n",
    "plt.title('Comparison of Total Fare Distributions')\n",
    "plt.xlim((0,1000))\n",
    "plt.legend()\n",
    "\n",
    "# Show the plot\n",
    "plt.show()"
   ]
  },
  {
   "cell_type": "markdown",
   "metadata": {},
   "source": [
    " very cool graph, it is working nicely\n",
    "\n",
    "\n",
    "\n",
    " - the green part shows that the 1 departure tickets are cheaper and `most people prefer them`\n",
    " - the orange part shows that the 2 departure tickets are still preferred, they are a little bit pricier than the 1 departure, but it still `people prefer them`\n"
   ]
  },
  {
   "cell_type": "markdown",
   "metadata": {},
   "source": [
    "## possible answer "
   ]
  },
  {
   "cell_type": "markdown",
   "metadata": {},
   "source": [
    "#### Now We will answer the question everyone is waiting for, which is: \n",
    "- ` does having more departures or layovers makes the ticket cheaper ? `"
   ]
  },
  {
   "cell_type": "markdown",
   "metadata": {},
   "source": [
    "how shall i tackle this challange ? \n",
    "- i have tickets where we have at least 3 departures \n",
    "- let's get tickets with 2 departures exactly\n",
    "- let's get tickets with 1 departures exactly\n",
    "- let's compare them, but how can we compare these 2 filtered dataframes by the total fare ?\n",
    "- shall we take the sum of the total fare? shall we take the average of the fare ? shall we take the std ? shall we take the variance ? \n",
    "- we'll see"
   ]
  },
  {
   "cell_type": "code",
   "execution_count": null,
   "metadata": {},
   "outputs": [
    {
     "data": {
      "text/plain": [
       "(23.97, 4752.6)"
      ]
     },
     "metadata": {},
     "output_type": "display_data"
    }
   ],
   "source": [
    "float(df.totalFare.min()), float(df.totalFare.max())"
   ]
  },
  {
   "cell_type": "code",
   "execution_count": null,
   "metadata": {},
   "outputs": [
    {
     "data": {
      "text/plain": [
       "(23.97, 4752.6)"
      ]
     },
     "metadata": {},
     "output_type": "display_data"
    }
   ],
   "source": [
    "float(nonStop_tickets.totalFare.min()),float(nonStop_tickets.totalFare.max())"
   ]
  },
  {
   "cell_type": "code",
   "execution_count": null,
   "metadata": {},
   "outputs": [
    {
     "data": {
      "text/plain": [
       "(49.69, 3376.6)"
      ]
     },
     "metadata": {},
     "output_type": "display_data"
    }
   ],
   "source": [
    "float(two_departure_df.totalFare.min()),float(two_departure_df.totalFare.max())"
   ]
  },
  {
   "cell_type": "code",
   "execution_count": null,
   "metadata": {},
   "outputs": [
    {
     "data": {
      "text/plain": [
       "(62.38, 3341.09)"
      ]
     },
     "metadata": {},
     "output_type": "display_data"
    }
   ],
   "source": [
    "float(three_or_more_departures_df.totalFare.min()),float(three_or_more_departures_df.totalFare.max())"
   ]
  },
  {
   "cell_type": "markdown",
   "metadata": {},
   "source": [
    "what can we learn from the max and the min here ? \n",
    "- the max values suggest our first intiuition which is as the number of stops increase, the price gets lower and we can sense this by looking at the maximum value of each filter we used\n",
    "the min tells us a different story:\n",
    "\n",
    "<li> for MIN prices we can see the following:\n",
    "  <ul> \n",
    "    <li> one-way-tickets min : 23.97</li>\n",
    "    <li> two-way-tickets min : 49.69</li>\n",
    "    <li> at least three-way-tickets min : 62.38 </li>\n",
    "  </ul>     \n",
    "</li>\n",
    "\n",
    "`CONCLUSION: for short travels in terms of distance, travel one way`\n",
    "\n",
    "<li> for MAX prices we can see the following:\n",
    "  <ul> \n",
    "    <li> one-way-tickets MAX : 4752.6</li>\n",
    "    <li> two-way-tickets MAX : 3376.6</li>\n",
    "    <li> at least three-way-tickets MAX : 3341.09 </li>\n",
    "  </ul>\n",
    "</li>\n",
    "\n",
    "`CONCLUSION: for long travels in terms of distance, travel three way - considering other factors equal -- ceteris paribus`\n",
    "\n",
    "\n"
   ]
  },
  {
   "cell_type": "markdown",
   "metadata": {},
   "source": [
    "## possible Answer"
   ]
  },
  {
   "cell_type": "markdown",
   "metadata": {},
   "source": [
    "things i want to see: \n",
    "- the airplane tickets are they round trip ? \n",
    "- all of these are one tickets right ? \n",
    "- so one way tickets but some have some stops in between which makes the ticket cheaper or expensive in some cases."
   ]
  },
  {
   "cell_type": "markdown",
   "metadata": {},
   "source": [
    "#### `Most used airlines ? `"
   ]
  },
  {
   "cell_type": "code",
   "execution_count": null,
   "metadata": {},
   "outputs": [
    {
     "data": {
      "text/plain": [
       "segmentsAirlineName\n",
       "American Airlines           968718\n",
       "Delta                       914335\n",
       "United                      900036\n",
       "Alaska Airlines             230803\n",
       "JetBlue Airways             222090\n",
       "Spirit Airlines             214847\n",
       "Frontier Airlines            50007\n",
       "Cape Air                     15963\n",
       "Southern Airways Express      5592\n",
       "Sun Country Airlines          4160\n",
       "Key Lime Air                  3268\n",
       "Boutique Air                  2730\n",
       "Contour Airlines               550\n",
       "Name: count, dtype: int64"
      ]
     },
     "metadata": {},
     "output_type": "display_data"
    }
   ],
   "source": [
    "df['segmentsAirlineName'].str.split(r\"\\|\\|\").explode().value_counts()"
   ]
  },
  {
   "cell_type": "code",
   "execution_count": 75,
   "metadata": {},
   "outputs": [
    {
     "data": {
      "text/plain": [
       "Text(0.5, 0, 'Count')"
      ]
     },
     "execution_count": 75,
     "metadata": {},
     "output_type": "execute_result"
    },
    {
     "data": {
      "image/png": "[encoded data removed]",
      "text/plain": [
       "<Figure size 640x480 with 1 Axes>"
      ]
     },
     "metadata": {},
     "output_type": "display_data"
    }
   ],
   "source": [
    "ax = df['segmentsAirlineName'].str.split(r\"\\|\\|\").explode().value_counts().head().plot(kind='barh')\n",
    "ax.xaxis.set_major_formatter(mticker.FuncFormatter(lambda x, _: f'{int(x):,}'))  # Format x-axis numbers with commas\n",
    "plt.xlim(0, 1_000_000)  # Set x-axis range manually\n",
    "plt.ylabel(\"Airline Names\")\n",
    "plt.xlabel(\"Count\")"
   ]
  },
  {
   "cell_type": "markdown",
   "metadata": {},
   "source": [
    "We can now say that top 3 airlines are: \n",
    "- American Airlines \n",
    "- Delta\n",
    "- United\n",
    "\n",
    "\n",
    "then we can run more conclusions over this. such as most travelers travel through these airlines for different reasons; we can here make an online search to see why people travel through these airlines ? "
   ]
  },
  {
   "cell_type": "code",
   "execution_count": 76,
   "metadata": {},
   "outputs": [],
   "source": [
    "# IGNORE THIS CELL\n",
    "\n",
    "# training on the lambda function\n",
    "# counting the number of values in each array in the new series obj 'a'\n",
    "# we can see the max value and the min value \n",
    "# from this information we can make a function which will make our lives easier to count the number of airlines that is used for departure and arrival\n",
    "# a = df['segmentsAirlineName'].str.split(r\"\\|\\|\")\n",
    "# h = a.apply(lambda x : len(x))\n",
    "# h.max()"
   ]
  },
  {
   "cell_type": "markdown",
   "metadata": {},
   "source": [
    "#### understanding the 'segmentsAirlineName'"
   ]
  },
  {
   "cell_type": "markdown",
   "metadata": {},
   "source": [
    "## possible answer"
   ]
  },
  {
   "cell_type": "code",
   "execution_count": 127,
   "metadata": {},
   "outputs": [
    {
     "data": {
      "text/plain": [
       "Text(0.5, 1.0, ' Cheapiest Airline connections')"
      ]
     },
     "execution_count": 127,
     "metadata": {},
     "output_type": "execute_result"
    },
    {
     "data": {
      "image/png": "[encoded data removed]",
      "text/plain": [
       "<Figure size 640x480 with 1 Axes>"
      ]
     },
     "metadata": {},
     "output_type": "display_data"
    }
   ],
   "source": [
    "# Step 5: Explode the list of airline names to split into individual rows (without creating unnecessary duplicates)\n",
    "# Here, the adjustment is done before the split, so we don't explode and aggregate directly\n",
    "airline_fare_stats = (\n",
    "    df.groupby('segmentsAirlineName', observed=True)['totalFare']\n",
    "    .agg(['mean', 'median','min', 'max', 'count'])\n",
    "    .sort_values(by='median', ascending=True)\n",
    ")\n",
    "airline_fare_stats['median'].head().plot(kind='barh')\n",
    "plt.ylabel('Airlines')\n",
    "plt.xlabel('Cheapiest Median Fare $')\n",
    "plt.title(' Cheapiest Airline connections')\n",
    "\n"
   ]
  },
  {
   "cell_type": "markdown",
   "metadata": {},
   "source": [
    "i decided to keep those as they are because you cannot split the fare among all of segment airlinenames because , you don't know what each airline company shall get from each fare we have? if you know then tell us, but if you don't know then use the whole segment in your analysis"
   ]
  },
  {
   "cell_type": "code",
   "execution_count": 123,
   "metadata": {},
   "outputs": [
    {
     "data": {
      "image/png": "[encoded data removed]",
      "text/plain": [
       "<Figure size 640x480 with 1 Axes>"
      ]
     },
     "metadata": {},
     "output_type": "display_data"
    }
   ],
   "source": [
    "airline_fare_stats = (\n",
    "    df.groupby('start_END_Destination', observed=True)['totalFare']\n",
    "    .agg(['mean', 'median','min', 'max', 'count'])\n",
    "    .sort_values(by='median', ascending=False)\n",
    ")\n",
    "airline_fare_stats['median'].head().plot(kind='barh')\n",
    "plt.ylabel('DESTINATION')\n",
    "plt.xlabel('Top Median Fares $')\n",
    "plt.title(\"EXPENSIVE DESTINATIONS\")\n",
    "plt.tight_layout()\n"
   ]
  },
  {
   "cell_type": "code",
   "execution_count": 124,
   "metadata": {},
   "outputs": [
    {
     "data": {
      "image/png": "[encoded data removed]",
      "text/plain": [
       "<Figure size 640x480 with 1 Axes>"
      ]
     },
     "metadata": {},
     "output_type": "display_data"
    }
   ],
   "source": [
    "airline_fare_stats = (\n",
    "    df.groupby('start_END_Destination', observed=True)['totalFare']\n",
    "    .agg(['mean', 'median','min', 'max', 'count'])\n",
    "    .sort_values(by='median', ascending=True)\n",
    ")\n",
    "airline_fare_stats['median'].head().plot(kind='barh')\n",
    "plt.ylabel('DESTINATION')\n",
    "plt.xlabel('Cheapest Median Fares $')\n",
    "plt.title(\" CHEAPEST DESTINATIONS  \")\n",
    "plt.tight_layout()\n"
   ]
  },
  {
   "cell_type": "markdown",
   "metadata": {},
   "source": [
    "- we could dig deep to see how far is the TTN to ATL, why this cheap ? \n",
    "- same for others , are they 3 departures or 2 or non ? these kinds of questions "
   ]
  },
  {
   "cell_type": "markdown",
   "metadata": {},
   "source": [
    "## PUTTING AN EXTRA FILTER SUCH AS NOT REFUNDABLE"
   ]
  },
  {
   "cell_type": "code",
   "execution_count": 125,
   "metadata": {},
   "outputs": [
    {
     "data": {
      "image/png": "[encoded data removed]",
      "text/plain": [
       "<Figure size 640x480 with 1 Axes>"
      ]
     },
     "metadata": {},
     "output_type": "display_data"
    }
   ],
   "source": [
    "airline_fare_stats = (\n",
    "    df[~df['isRefundable']]\n",
    "    .groupby('start_END_Destination', observed=True)['totalFare']\n",
    "    .agg(['mean', 'median','min', 'max', 'count'])\n",
    "    .sort_values(by='median', ascending=False)\n",
    ")\n",
    "airline_fare_stats['median'].head().plot(kind='barh')\n",
    "plt.title('Expensive Destinations incl. a filter :{ ticket is not refundable } ')\n",
    "plt.ylabel('DESTINATION')\n",
    "plt.xlabel('TOP Median Fares $')\n",
    "plt.tight_layout()\n"
   ]
  },
  {
   "cell_type": "code",
   "execution_count": null,
   "metadata": {},
   "outputs": [],
   "source": []
  }
 ],
 "metadata": {
  "kernelspec": {
   "display_name": ".venv",
   "language": "python",
   "name": "python3"
  },
  "language_info": {
   "codemirror_mode": {
    "name": "ipython",
    "version": 3
   },
   "file_extension": ".py",
   "mimetype": "text/x-python",
   "name": "python",
   "nbconvert_exporter": "python",
   "pygments_lexer": "ipython3",
   "version": "3.12.0"
  }
 },
 "nbformat": 4,
 "nbformat_minor": 2
}
